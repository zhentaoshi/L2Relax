{
 "cells": [
  {
   "cell_type": "markdown",
   "metadata": {},
   "source": [
    "## DGP with three groups"
   ]
  },
  {
   "cell_type": "markdown",
   "metadata": {},
   "source": [
    "This file provides a demonstration of the DGP"
   ]
  },
  {
   "cell_type": "code",
   "execution_count": 5,
   "metadata": {},
   "outputs": [],
   "source": [
    "import numpy as np\n",
    "import cvxpy as cp\n",
    "import statsmodels.api as sm\n",
    "import matplotlib.pyplot as plt\n",
    "import seaborn as sns\n"
   ]
  },
  {
   "cell_type": "code",
   "execution_count": 6,
   "metadata": {},
   "outputs": [],
   "source": [
    "\n",
    "# set parameters\n",
    "N = 30\n",
    "K = 3\n",
    "T2 = 200\n"
   ]
  },
  {
   "cell_type": "markdown",
   "metadata": {},
   "source": [
    "### The Core Part"
   ]
  },
  {
   "cell_type": "code",
   "execution_count": 7,
   "metadata": {},
   "outputs": [
    {
     "data": {
      "text/plain": [
       "matrix([[0.66666667],\n",
       "        [0.        ],\n",
       "        [0.33333333]])"
      ]
     },
     "execution_count": 7,
     "metadata": {},
     "output_type": "execute_result"
    }
   ],
   "source": [
    "\n",
    "# the \"core\" part of L2-relaxation. Three groups\n",
    "Sigma = np.matrix([[1, 1, 0], [1, 2, 0], [0, 0, 2] ])\n",
    "Sigma_inv = np.linalg.inv(Sigma)\n",
    "# w uses the exact formula of Bates-Granger solution\n",
    "w_core = (Sigma_inv @ np.ones((K,1))) / (np.ones((1,K)) @ Sigma_inv @ np.ones((K,1)))\n",
    "w_core"
   ]
  },
  {
   "cell_type": "markdown",
   "metadata": {},
   "source": [
    "Notice that the 2nd element of the above solution is 0. Therefore, sparsity is welcomed."
   ]
  },
  {
   "cell_type": "markdown",
   "metadata": {},
   "source": [
    "The optimal weight of this problem can be solved by hand. \n",
    "Anyway, the following block uses \"CVXPY\" to solve it automatically.\n",
    "```\n",
    "w = cp.Variable(K)\n",
    "objective = cp.Minimize(cp.quad_form(w, Sigma))\n",
    "constraints = [cp.sum(w) == 1]\n",
    "prob = cp.Problem(objective, constraints)\n",
    "\n",
    "result = prob.solve()\n",
    "print(w.value)\n",
    "```\n",
    "This block demonstrate the Bates-Granger solution in case `Sigma` is non-invertible"
   ]
  },
  {
   "cell_type": "markdown",
   "metadata": {},
   "source": [
    "### Full Scale Oracle Model\n",
    "\n",
    "Now we extend the core part (3 groups) into the full scale model (N individuals). Each group has `N_k = N/K` people. `big_Sigma` is N-by-N equicorrelation matrix, and `w_true` is N-by-1 vector of the oracle weight. (In our L2-relaxation paper, \"Oracle\" means no idiosyncratic errors.)"
   ]
  },
  {
   "cell_type": "code",
   "execution_count": 8,
   "metadata": {},
   "outputs": [
    {
     "data": {
      "text/plain": [
       "[<matplotlib.lines.Line2D at 0x16c737270a0>]"
      ]
     },
     "execution_count": 8,
     "metadata": {},
     "output_type": "execute_result"
    },
    {
     "data": {
      "image/png": "[encoded data removed]",
      "text/plain": [
       "<Figure size 640x480 with 1 Axes>"
      ]
     },
     "metadata": {},
     "output_type": "display_data"
    }
   ],
   "source": [
    "N_k = np.int8(N/K)\n",
    "big_Sigma = np.kron( Sigma, np.ones([N_k, N_k]) ) \n",
    "w_true = np.repeat( w_core * (K/N), N_k ).reshape(N, -1) \n",
    "\n",
    "plt.plot(np.arange(N)+1, w_true, 'o') # plot the true value"
   ]
  },
  {
   "cell_type": "markdown",
   "metadata": {},
   "source": [
    "`half_Sigma` is the (matrix) square root of `big_Sigma`"
   ]
  },
  {
   "cell_type": "code",
   "execution_count": 9,
   "metadata": {},
   "outputs": [],
   "source": [
    "_, S, V = np.linalg.svd(big_Sigma)\n",
    "half_Sigma  = np.diag(np.sqrt(S)) @ V"
   ]
  },
  {
   "cell_type": "markdown",
   "metadata": {},
   "source": [
    "`FF_true` is a T2-by-N matrix. Each column represnts the true signal that an expert receives about a macro variable `Y` (to be defined soon). `var(FF_true) = big_Sigma`. `FF_true` is unobservable to the researcher."
   ]
  },
  {
   "cell_type": "code",
   "execution_count": 10,
   "metadata": {},
   "outputs": [],
   "source": [
    "FF_true = np.random.randn(T2, N) @ half_Sigma  "
   ]
  },
  {
   "cell_type": "markdown",
   "metadata": {},
   "source": [
    "In reality, the researcher observes `Y`, which is a liner combination of the true signal with the true weight *plus a random noise*.\n",
    "\n",
    "Each column of `FF` is the observed (by the researcher) prediction from an expert. The expert has a noise `noise_factor * np.random.randn(T2,N)` to perturb it from the true signal. `noise_factor` is to be used to control the signal-to-noise level."
   ]
  },
  {
   "cell_type": "code",
   "execution_count": 11,
   "metadata": {},
   "outputs": [],
   "source": [
    "Y = np.dot(FF_true,  w_true )  + 0.5 * np.random.randn(T2,1)\n",
    "\n",
    "noise_factor = 0.5\n",
    "FF = FF_true + noise_factor * np.random.randn(T2,N) @ np.eye(N)\n"
   ]
  },
  {
   "cell_type": "markdown",
   "metadata": {},
   "source": [
    "Compute the signal-to-noise ratio in this given DGP, where the signal is evaluated at the oracle weights. \n",
    "In our preliminary experiments, let's try relatively strong SNR, say 2~3."
   ]
  },
  {
   "cell_type": "code",
   "execution_count": 12,
   "metadata": {},
   "outputs": [
    {
     "name": "stdout",
     "output_type": "stream",
     "text": [
      "2.6921879181499575\n"
     ]
    }
   ],
   "source": [
    "R_sq = 1 - np.var(Y - np.dot(FF, w_true)) / np.var(Y)\n",
    "SNR = R_sq / (1-R_sq) # signal-to-noise ratio\n",
    "print(SNR)"
   ]
  },
  {
   "cell_type": "markdown",
   "metadata": {},
   "source": [
    "### Feasible Weight Estimation"
   ]
  },
  {
   "cell_type": "markdown",
   "metadata": {},
   "source": [
    "Below is what a researcher does in reality. He observes the data in which the signal is contaminated by noises."
   ]
  },
  {
   "cell_type": "code",
   "execution_count": 13,
   "metadata": {},
   "outputs": [],
   "source": [
    "EE = Y - FF # individual prediction error\n",
    "big_Sigma_hat = EE.T @ EE / N # covariance matrix of prediction errors\n"
   ]
  },
  {
   "cell_type": "code",
   "execution_count": 14,
   "metadata": {},
   "outputs": [
    {
     "data": {
      "image/png": "[encoded data removed]",
      "text/plain": [
       "<Figure size 640x480 with 2 Axes>"
      ]
     },
     "metadata": {},
     "output_type": "display_data"
    }
   ],
   "source": [
    "\n",
    "sns.heatmap(big_Sigma_hat, annot=False)\n",
    "plt.show()"
   ]
  },
  {
   "cell_type": "markdown",
   "metadata": {},
   "source": [
    "In the above heatmap, we can clearly see three groups with small noises."
   ]
  },
  {
   "cell_type": "markdown",
   "metadata": {},
   "source": [
    "Let us try the Bates-Granger solution."
   ]
  },
  {
   "cell_type": "code",
   "execution_count": 21,
   "metadata": {},
   "outputs": [
    {
     "name": "stdout",
     "output_type": "stream",
     "text": [
      "[[ 0.02948571 -0.014371   -0.0612495   0.00402105  0.06838129  0.10285354\n",
      "   0.04817391 -0.06753521  0.21802271  0.2633604   0.06352138  0.0939832\n",
      "  -0.12497272 -0.04529866 -0.06074524  0.03908322  0.05423068  0.06363655\n",
      "  -0.05872194  0.03057945  0.03799589  0.11839881  0.05346701  0.01475254\n",
      "   0.16179665  0.07815178  0.06089822 -0.03775709 -0.01347099 -0.12067164]]\n"
     ]
    },
    {
     "data": {
      "text/plain": [
       "[<matplotlib.lines.Line2D at 0x16c7d354940>]"
      ]
     },
     "execution_count": 21,
     "metadata": {},
     "output_type": "execute_result"
    },
    {
     "data": {
      "image/png": "[encoded data removed]",
      "text/plain": [
       "<Figure size 640x480 with 1 Axes>"
      ]
     },
     "metadata": {},
     "output_type": "display_data"
    }
   ],
   "source": [
    "# compare with the explicit solution\n",
    "w_hat_BG_exact = ( np.linalg.inv(big_Sigma_hat) @ np.ones(N) ) / ( np.ones(N).T @ np.linalg.inv(big_Sigma_hat) @ np.ones(N) )\n",
    "print(w_hat_BG_exact)\n",
    "plt.plot(np.r_[1:(N+1)], w_hat_BG_exact.T, 'o')"
   ]
  },
  {
   "cell_type": "markdown",
   "metadata": {},
   "source": [
    "Given T2 = 200 and N = 30, the BG solution is very unsatisfactory. We observe no patterns."
   ]
  },
  {
   "cell_type": "markdown",
   "metadata": {},
   "source": [
    "#### L2-relaxation"
   ]
  },
  {
   "cell_type": "code",
   "execution_count": 16,
   "metadata": {},
   "outputs": [],
   "source": [
    "tau = 0.3 # the tuning parameter in L2-relaxation\n",
    "\n",
    "w_g = cp.Variable(N + 1)\n",
    "\n",
    "w = w_g[:N]\n",
    "gam = w_g[N]\n",
    "\n",
    "objective = cp.Minimize(cp.norm2(w))\n",
    "constraints = [cp.sum(w) == 1,\n",
    "               big_Sigma_hat @ w - gam <= tau,\n",
    "               big_Sigma_hat @ w - gam >= -tau]\n",
    "prob = cp.Problem(objective, constraints)\n",
    "\n",
    "result = prob.solve()"
   ]
  },
  {
   "cell_type": "code",
   "execution_count": 17,
   "metadata": {},
   "outputs": [
    {
     "name": "stdout",
     "output_type": "stream",
     "text": [
      "[ 0.05674926  0.0613744   0.05794857  0.0623027   0.05963614  0.05857611\n",
      "  0.05954575  0.06014072  0.0606001   0.07215337  0.00690851  0.01070362\n",
      " -0.008521    0.00369294 -0.00100182  0.00931232  0.002308    0.00908066\n",
      "  0.00383683  0.00798756  0.03325721  0.03406379  0.03882473  0.0357724\n",
      "  0.03478996  0.03953254  0.03443769  0.03427501  0.03169958  0.03001233]\n"
     ]
    },
    {
     "data": {
      "text/plain": [
       "[<matplotlib.lines.Line2D at 0x16c797cb760>]"
      ]
     },
     "execution_count": 17,
     "metadata": {},
     "output_type": "execute_result"
    },
    {
     "data": {
      "image/png": "[encoded data removed]",
      "text/plain": [
       "<Figure size 640x480 with 1 Axes>"
      ]
     },
     "metadata": {},
     "output_type": "display_data"
    }
   ],
   "source": [
    "w_hat_L2r = w.value[:N]\n",
    "print(w_hat_L2r)\n",
    "plt.plot(np.r_[1:(N+1)], w_hat_L2r, 'o')"
   ]
  },
  {
   "cell_type": "markdown",
   "metadata": {},
   "source": [
    "We can roughly observe three groups in the above graph."
   ]
  },
  {
   "cell_type": "markdown",
   "metadata": {},
   "source": []
  }
 ],
 "metadata": {
  "kernelspec": {
   "display_name": "tf_env",
   "language": "python",
   "name": "python3"
  },
  "language_info": {
   "codemirror_mode": {
    "name": "ipython",
    "version": 3
   },
   "file_extension": ".py",
   "mimetype": "text/x-python",
   "name": "python",
   "nbconvert_exporter": "python",
   "pygments_lexer": "ipython3",
   "version": "3.10.12"
  },
  "orig_nbformat": 4
 },
 "nbformat": 4,
 "nbformat_minor": 2
}
