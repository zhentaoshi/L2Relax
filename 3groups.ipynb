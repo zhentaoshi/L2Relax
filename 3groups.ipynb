{
 "cells": [
  {
   "cell_type": "markdown",
   "metadata": {},
   "source": [
    "## DGP with three groups"
   ]
  },
  {
   "cell_type": "markdown",
   "metadata": {},
   "source": [
    "This file provides a demonstration of the DGP"
   ]
  },
  {
   "cell_type": "code",
   "execution_count": 1,
   "metadata": {},
   "outputs": [
    {
     "name": "stdout",
     "output_type": "stream",
     "text": [
      "(CVXPY) Aug 15 11:40:41 AM: Encountered unexpected exception importing solver OSQP:\n",
      "ImportError('DLL load failed while importing qdldl: The specified module could not be found.')\n"
     ]
    }
   ],
   "source": [
    "import numpy as np\n",
    "import cvxpy as cp\n",
    "import statsmodels.api as sm\n",
    "import matplotlib.pyplot as plt\n",
    "import seaborn as sns\n"
   ]
  },
  {
   "cell_type": "code",
   "execution_count": 2,
   "metadata": {},
   "outputs": [],
   "source": [
    "\n",
    "# set parameters\n",
    "N = 30\n",
    "K = 3\n",
    "T2 = 200\n"
   ]
  },
  {
   "cell_type": "markdown",
   "metadata": {},
   "source": [
    "### The Core Part"
   ]
  },
  {
   "cell_type": "code",
   "execution_count": 3,
   "metadata": {},
   "outputs": [
    {
     "data": {
      "text/plain": [
       "matrix([[0.66666667],\n",
       "        [0.        ],\n",
       "        [0.33333333]])"
      ]
     },
     "execution_count": 3,
     "metadata": {},
     "output_type": "execute_result"
    }
   ],
   "source": [
    "\n",
    "# the \"core\" part of L2-relaxation. Three groups\n",
    "Sigma = np.matrix([[1, 1, 0], [1, 2, 0], [0, 0, 2] ])\n",
    "Sigma_inv = np.linalg.inv(Sigma)\n",
    "# w uses the exact formula of Bates-Granger solution\n",
    "w_core = (Sigma_inv @ np.ones((K,1))) / (np.ones((1,K)) @ Sigma_inv @ np.ones((K,1)))\n",
    "w_core"
   ]
  },
  {
   "cell_type": "markdown",
   "metadata": {},
   "source": [
    "Notice that the 2nd element of the above solution is 0. Therefore, sparsity is welcomed."
   ]
  },
  {
   "cell_type": "markdown",
   "metadata": {},
   "source": [
    "The optimal weight of this problem can be solved by hand. \n",
    "Anyway, the following block uses \"CVXPY\" to solve it automatically.\n",
    "```\n",
    "w = cp.Variable(K)\n",
    "objective = cp.Minimize(cp.quad_form(w, Sigma))\n",
    "constraints = [cp.sum(w) == 1]\n",
    "prob = cp.Problem(objective, constraints)\n",
    "\n",
    "result = prob.solve()\n",
    "print(w.value)\n",
    "```\n",
    "This block demonstrate the Bates-Granger solution in case `Sigma` is non-invertible"
   ]
  },
  {
   "cell_type": "markdown",
   "metadata": {},
   "source": [
    "### Full Scale Oracle Model\n",
    "\n",
    "Now we extend the core part (3 groups) into the full scale model (N individuals). Each group has `N_k = N/K` people. `big_Sigma` is N-by-N equicorrelation matrix, and `w_true` is N-by-1 vector of the oracle weight. (In our L2-relaxation paper, \"Oracle\" means no idiosyncratic errors.)"
   ]
  },
  {
   "cell_type": "code",
   "execution_count": 4,
   "metadata": {},
   "outputs": [
    {
     "data": {
      "text/plain": [
       "[<matplotlib.lines.Line2D at 0x27ab981cc40>]"
      ]
     },
     "execution_count": 4,
     "metadata": {},
     "output_type": "execute_result"
    },
    {
     "data": {
      "image/png": "[encoded data removed]",
      "text/plain": [
       "<Figure size 640x480 with 1 Axes>"
      ]
     },
     "metadata": {},
     "output_type": "display_data"
    }
   ],
   "source": [
    "N_k = np.int8(N/K)\n",
    "big_Sigma = np.kron( Sigma, np.ones([N_k, N_k]) ) \n",
    "w_true = np.repeat( w_core * (K/N), N_k ).reshape(N, -1) \n",
    "\n",
    "plt.plot(np.arange(N)+1, w_true, 'o') # plot the true value"
   ]
  },
  {
   "cell_type": "markdown",
   "metadata": {},
   "source": [
    "`half_Sigma` is the (matrix) square root of `big_Sigma`"
   ]
  },
  {
   "cell_type": "code",
   "execution_count": 5,
   "metadata": {},
   "outputs": [],
   "source": [
    "_, S, V = np.linalg.svd(big_Sigma)\n",
    "half_Sigma  = np.diag(np.sqrt(S)) @ V"
   ]
  },
  {
   "cell_type": "markdown",
   "metadata": {},
   "source": [
    "`FF_true` is a T2-by-N matrix. Each column represnts the true signal that an expert receives about a macro variable `Y` (to be defined soon). `var(FF_true) = big_Sigma`. `FF_true` is unobservable to the researcher."
   ]
  },
  {
   "cell_type": "code",
   "execution_count": 6,
   "metadata": {},
   "outputs": [],
   "source": [
    "FF_true = np.random.randn(T2, N) @ half_Sigma  "
   ]
  },
  {
   "cell_type": "markdown",
   "metadata": {},
   "source": [
    "In reality, the researcher observes `Y`, which is a liner combination of the true signal with the true weight *plus a random noise*.\n",
    "\n",
    "Each column of `FF` is the observed (by the researcher) prediction from an expert. The expert has a noise `noise_factor * np.random.randn(T2,N)` to perturb it from the true signal. `noise_factor` is to be used to control the signal-to-noise level."
   ]
  },
  {
   "cell_type": "code",
   "execution_count": 7,
   "metadata": {},
   "outputs": [],
   "source": [
    "Y = np.dot(FF_true,  w_true )  + 0.5 * np.random.randn(T2,1)\n",
    "\n",
    "noise_factor = 0.5\n",
    "FF = FF_true + noise_factor * np.random.randn(T2,N) @ np.eye(N)\n"
   ]
  },
  {
   "cell_type": "markdown",
   "metadata": {},
   "source": [
    "Compute the signal-to-noise ratio in this given DGP, where the signal is evaluated at the oracle weights. \n",
    "In our preliminary experiments, let's try relatively strong SNR, say 2~3."
   ]
  },
  {
   "cell_type": "code",
   "execution_count": 8,
   "metadata": {},
   "outputs": [
    {
     "name": "stdout",
     "output_type": "stream",
     "text": [
      "2.909445375420442\n"
     ]
    }
   ],
   "source": [
    "R_sq = 1 - np.var(Y - np.dot(FF, w_true)) / np.var(Y)\n",
    "SNR = R_sq / (1-R_sq) # signal-to-noise ratio\n",
    "print(SNR)"
   ]
  },
  {
   "cell_type": "markdown",
   "metadata": {},
   "source": [
    "### Feasible Weight Estimation"
   ]
  },
  {
   "cell_type": "markdown",
   "metadata": {},
   "source": [
    "Below is what a researcher does in reality. He observes the data in which the signal is contaminated by noises."
   ]
  },
  {
   "cell_type": "code",
   "execution_count": 9,
   "metadata": {},
   "outputs": [],
   "source": [
    "EE = Y - FF # individual prediction error\n",
    "big_Sigma_hat = EE.T @ EE / N # covariance matrix of prediction errors\n"
   ]
  },
  {
   "cell_type": "code",
   "execution_count": 10,
   "metadata": {},
   "outputs": [
    {
     "data": {
      "image/png": "[encoded data removed]",
      "text/plain": [
       "<Figure size 640x480 with 2 Axes>"
      ]
     },
     "metadata": {},
     "output_type": "display_data"
    }
   ],
   "source": [
    "\n",
    "sns.heatmap(big_Sigma_hat, annot=False)\n",
    "plt.show()"
   ]
  },
  {
   "cell_type": "markdown",
   "metadata": {},
   "source": [
    "In the above heatmap, we can clearly see three groups with small noises."
   ]
  },
  {
   "cell_type": "markdown",
   "metadata": {},
   "source": [
    "Let us try the Bates-Granger solution."
   ]
  },
  {
   "cell_type": "code",
   "execution_count": 11,
   "metadata": {},
   "outputs": [
    {
     "name": "stdout",
     "output_type": "stream",
     "text": [
      "[[ 0.13701425  0.09995671  0.10927677  0.00392684 -0.01501121  0.10069053\n",
      "   0.0980005  -0.03932841  0.06290447  0.15212371 -0.0229934  -0.03678855\n",
      "  -0.02673745 -0.00574139 -0.00264859 -0.03453105 -0.02566772 -0.14184336\n",
      "   0.08526589  0.20627609 -0.02266305 -0.00456185 -0.04099197  0.16659123\n",
      "   0.04254958  0.02356702 -0.00154273  0.09171206  0.02728039  0.01391471]]\n"
     ]
    },
    {
     "data": {
      "text/plain": [
       "[<matplotlib.lines.Line2D at 0x27abe7aeaa0>]"
      ]
     },
     "execution_count": 11,
     "metadata": {},
     "output_type": "execute_result"
    },
    {
     "data": {
      "image/png": "[encoded data removed]",
      "text/plain": [
       "<Figure size 640x480 with 1 Axes>"
      ]
     },
     "metadata": {},
     "output_type": "display_data"
    }
   ],
   "source": [
    "# compare with the explicit solution\n",
    "w_hat_BG_exact = ( np.linalg.inv(big_Sigma_hat) @ np.ones(N) ) / ( np.ones(N).T @ np.linalg.inv(big_Sigma_hat) @ np.ones(N) )\n",
    "print(w_hat_BG_exact)\n",
    "plt.plot(np.r_[1:(N+1)], w_hat_BG_exact.T, 'o')"
   ]
  },
  {
   "cell_type": "markdown",
   "metadata": {},
   "source": [
    "Given T2 = 200 and N = 30, the BG solution is very unsatisfactory. We observe no patterns."
   ]
  },
  {
   "cell_type": "markdown",
   "metadata": {},
   "source": [
    "#### L2-relaxation"
   ]
  },
  {
   "cell_type": "code",
   "execution_count": 12,
   "metadata": {},
   "outputs": [],
   "source": [
    "tau = 0.3 # the tuning parameter in L2-relaxation\n",
    "\n",
    "w_g = cp.Variable(N + 1)\n",
    "\n",
    "w = w_g[:N]\n",
    "gam = w_g[N]\n",
    "\n",
    "objective = cp.Minimize(cp.norm2(w))\n",
    "constraints = [cp.sum(w) == 1,\n",
    "               big_Sigma_hat @ w - gam <= tau,\n",
    "               big_Sigma_hat @ w - gam >= -tau]\n",
    "prob = cp.Problem(objective, constraints)\n",
    "\n",
    "result = prob.solve()"
   ]
  },
  {
   "cell_type": "code",
   "execution_count": 13,
   "metadata": {},
   "outputs": [
    {
     "name": "stdout",
     "output_type": "stream",
     "text": [
      "[ 0.08128845  0.06433661  0.06839385  0.06518094  0.06168527  0.06282223\n",
      "  0.05956243  0.06254657  0.06413209  0.06777058  0.00288084  0.00175895\n",
      "  0.00912651  0.00590291  0.00566088  0.00663037  0.01090242 -0.01451158\n",
      "  0.00952821  0.00033681  0.03287545  0.02977468  0.02289436  0.03078485\n",
      "  0.03734195  0.03571374  0.02361704  0.02798772  0.03044749  0.03262739]\n"
     ]
    },
    {
     "data": {
      "text/plain": [
       "[<matplotlib.lines.Line2D at 0x27abed035e0>]"
      ]
     },
     "execution_count": 13,
     "metadata": {},
     "output_type": "execute_result"
    },
    {
     "data": {
      "image/png": "[encoded data removed]",
      "text/plain": [
       "<Figure size 640x480 with 1 Axes>"
      ]
     },
     "metadata": {},
     "output_type": "display_data"
    }
   ],
   "source": [
    "w_hat_L2r = w.value[:N]\n",
    "print(w_hat_L2r)\n",
    "plt.plot(np.r_[1:(N+1)], w_hat_L2r, 'o')"
   ]
  },
  {
   "cell_type": "markdown",
   "metadata": {},
   "source": [
    "We can roughly observe three groups in the above graph."
   ]
  },
  {
   "cell_type": "code",
   "execution_count": 14,
   "metadata": {},
   "outputs": [
    {
     "data": {
      "text/plain": [
       "1.0"
      ]
     },
     "execution_count": 14,
     "metadata": {},
     "output_type": "execute_result"
    }
   ],
   "source": [
    "np.sum(w_hat_L2r) # verify that the weights sum to 1"
   ]
  },
  {
   "cell_type": "markdown",
   "metadata": {},
   "source": []
  }
 ],
 "metadata": {
  "kernelspec": {
   "display_name": "tf_env",
   "language": "python",
   "name": "python3"
  },
  "language_info": {
   "codemirror_mode": {
    "name": "ipython",
    "version": 3
   },
   "file_extension": ".py",
   "mimetype": "text/x-python",
   "name": "python",
   "nbconvert_exporter": "python",
   "pygments_lexer": "ipython3",
   "version": "3.10.12"
  },
  "orig_nbformat": 4
 },
 "nbformat": 4,
 "nbformat_minor": 2
}
